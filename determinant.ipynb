{
 "cells": [
  {
   "cell_type": "code",
   "execution_count": 55,
   "metadata": {},
   "outputs": [
    {
     "name": "stdout",
     "output_type": "stream",
     "text": [
      "0\n",
      "------------------------------\n",
      "12563\n",
      "------------------------------\n",
      "26\n"
     ]
    }
   ],
   "source": [
    "def matris_rec(matris, toplam = 0):\n",
    "\n",
    "    indis = list(range(len(matris)))\n",
    "    #2x2 MATRİS DETRERMİNANTI\n",
    "    if len(matris) == 2 and len(matris[0]) == 2:\n",
    "        toplam = matris[0][0] * matris[1][1] - matris[1][0] * matris[0][1]\n",
    "        return toplam\n",
    "    \n",
    "    #NxN MATRİS DETERMİNANTI\n",
    "    for column in indis:\n",
    "        \n",
    "        matris_2 = matris.copy()\n",
    "        matris_2 = matris_2[1:]\n",
    "        row = len(matris_2)\n",
    "\n",
    "        for i in range(row):\n",
    "            \n",
    "            matris_2[i] = matris_2[i][0:column] + matris_2[i][column+1:]\n",
    "    \n",
    "        alt_matris_carpan = (-1) ** (column % 2)\n",
    "        top_det = matris_rec(matris_2)\n",
    "        toplam += alt_matris_carpan * matris[0][column] * top_det\n",
    "\n",
    "    return toplam\n",
    "\n",
    "print(matris_rec([[1, 2, 3],\n",
    "                  [1, 2, 3], \n",
    "                  [1, 2, 3]]))\n",
    "\n",
    "print('-' * 30)\n",
    "print(matris_rec([[-6, 2, 9, 12],\n",
    "                  [1, 7, 4, 17], \n",
    "                  [5, -2, 3, 42],\n",
    "                  [8, 2, 4, 31]]))\n",
    "\n",
    "print('-' * 30)\n",
    "print(matris_rec([[4, 2],\n",
    "                  [5, 9]]))"
   ]
  },
  {
   "cell_type": "code",
   "execution_count": null,
   "metadata": {},
   "outputs": [],
   "source": []
  }
 ],
 "metadata": {
  "kernelspec": {
   "display_name": "Python 3",
   "language": "python",
   "name": "python3"
  },
  "language_info": {
   "codemirror_mode": {
    "name": "ipython",
    "version": 3
   },
   "file_extension": ".py",
   "mimetype": "text/x-python",
   "name": "python",
   "nbconvert_exporter": "python",
   "pygments_lexer": "ipython3",
   "version": "3.6.8"
  }
 },
 "nbformat": 4,
 "nbformat_minor": 2
}
